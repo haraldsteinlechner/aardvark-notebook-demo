{
 "cells": [
  {
   "cell_type": "code",
   "execution_count": 1,
   "metadata": {},
   "source": [
    "#!fsharp\n",
    "// installation of paket integration (did not find out to do it properly)\n",
    "let installDesignTime () = \n",
    "    let home = \n",
    "        match System.Environment.OSVersion.Platform with\n",
    "        | PlatformID.Unix | PlatformID.MacOSX -> Environment.GetEnvironmentVariable(\"HOME\")\n",
    "        | _ -> Environment.ExpandEnvironmentVariables(\"%HOMEDRIVE%%HOMEPATH%\")\n",
    "    let target = System.IO.Path.Combine(home,@\".nuget\\packages\\microsoft.dotnet-interactive\\1.0.156101\\tools\\netcoreapp3.1\\any\\FSharp.DependencyManager.Paket.dll\")\n",
    "    System.IO.File.Copy(@\"packages\\build\\FSharp.DependencyManager.Paket\\lib\\netstandard2.0\\FSharp.DependencyManager.Paket.dll\", target)"
   ],
   "outputs": []
  },
  {
   "cell_type": "code",
   "execution_count": 1,
   "metadata": {},
   "source": [
    "#!fsharp\n",
    "installDesignTime()"
   ],
   "outputs": []
  },
  {
   "cell_type": "code",
   "execution_count": 1,
   "metadata": {},
   "source": [
    "#!fsharp\n",
    "#r \"paket: nuget FSharp.Data.Adaptive\"\n",
    "#r \"paket: nuget Aardvark.Base\"\n",
    "#r \"paket: nuget Aardvark.Base.Incremental\"\n",
    "#r \"paket: nuget Aardvark.Base.FSharp\"\n",
    "#r \"paket: nuget Aardvark.Base.Rendering\"\n",
    "#r \"paket: nuget Aardvark.Application.Slim\"\n",
    "#r \"paket: nuget Aardvark.Application.Slim.GL\"\n",
    "#r \"paket: nuget Aardvark.Application.Slim.Vulkan\"\n",
    "#r \"paket: nuget Aardvark.SceneGraph\"\n",
    "#r \"paket: nuget Aardvark.SceneGraph.IO\"\n",
    "#r \"paket: nuget Aardvark.Service\"\n",
    "#r \"paket: nuget Aardvark.UI\"\n",
    "#r \"paket: nuget Aardvark.UI.Primitives\"\n",
    "\n",
    "#r \"paket: nuget Microsoft.DotNet.PlatformAbstractions\"\n",
    ""
   ],
   "outputs": []
  },
  {
   "cell_type": "code",
   "execution_count": 1,
   "metadata": {},
   "source": [
    "#!fsharp\n",
    "// can be removed using project reference in the future\n",
    "#r @\"bin\\Debug\\netcoreapp3.1\\NotebookApp.dll\"\n",
    "// to allow plugins to be loaded starting from the executable (otherwise dotnet interactive is start)\n",
    "Aardvark.Base.IntrospectionProperties.CustomEntryAssembly <- System.Reflection.Assembly.LoadFile(@\"F:\\notebooks\\test\\app\\bin\\Debug\\netcoreapp3.1\\NotebookApp.dll\")"
   ],
   "outputs": []
  },
  {
   "cell_type": "code",
   "execution_count": 1,
   "metadata": {},
   "source": [
    "#!fsharp\n",
    "open Aardvark.Base\n",
    "Aardvark.Init()\n",
    "Aardvark.Base.Report.Verbosity <- -1"
   ],
   "outputs": [
    {
     "output_type": "execute_result",
     "data": {
      "text/plain": " 1: initializing aardvark"
     },
     "execution_count": 1,
     "metadata": {}
    },
    {
     "output_type": "execute_result",
     "data": {
      "text/plain": " ....................................................\r\n"
     },
     "execution_count": 1,
     "metadata": {}
    },
    {
     "output_type": "execute_result",
     "data": {
      "text/plain": " 1:   System Information:"
     },
     "execution_count": 1,
     "metadata": {}
    },
    {
     "output_type": "execute_result",
     "data": {
      "text/plain": "\r\n"
     },
     "execution_count": 1,
     "metadata": {}
    },
    {
     "output_type": "execute_result",
     "data": {
      "text/plain": " 1:     System:      Microsoft Windows 10.0.18363\r\n"
     },
     "execution_count": 1,
     "metadata": {}
    },
    {
     "output_type": "execute_result",
     "data": {
      "text/plain": " 1:     Processor:   4 core x64\r\n"
     },
     "execution_count": 1,
     "metadata": {}
    },
    {
     "output_type": "execute_result",
     "data": {
      "text/plain": " 1:     Process:     x64\r\n"
     },
     "execution_count": 1,
     "metadata": {}
    },
    {
     "output_type": "execute_result",
     "data": {
      "text/plain": " 1:     Framework:   .NET Core 3.1.9\r\n"
     },
     "execution_count": 1,
     "metadata": {}
    },
    {
     "output_type": "execute_result",
     "data": {
      "text/plain": " 1:   Loading plugins"
     },
     "execution_count": 1,
     "metadata": {}
    },
    {
     "output_type": "execute_result",
     "data": {
      "text/plain": " ................................................ 1.817 s\r\n"
     },
     "execution_count": 1,
     "metadata": {}
    },
    {
     "output_type": "execute_result",
     "data": {
      "text/plain": " 1:   WARNING: [Introspection] Assembly.GetEntryAssembly() was 0 but a CustomEntryAssembly was supplied.\r\n"
     },
     "execution_count": 1,
     "metadata": {}
    },
    {
     "output_type": "execute_result",
     "data": {
      "text/plain": " 1:   initializing SceneGraphCompletenessCheck"
     },
     "execution_count": 1,
     "metadata": {}
    },
    {
     "output_type": "execute_result",
     "data": {
      "text/plain": " ....................... 0.736 s\r\n"
     },
     "execution_count": 1,
     "metadata": {}
    },
    {
     "output_type": "execute_result",
     "data": {
      "text/plain": " 1:   initializing CustomPicklerProvider"
     },
     "execution_count": 1,
     "metadata": {}
    },
    {
     "output_type": "execute_result",
     "data": {
      "text/plain": " ............................. 0.053 s\r\n"
     },
     "execution_count": 1,
     "metadata": {}
    },
    {
     "output_type": "execute_result",
     "data": {
      "text/plain": " 1:   initializing PixImageDevil"
     },
     "execution_count": 1,
     "metadata": {}
    },
    {
     "output_type": "execute_result",
     "data": {
      "text/plain": " ..................................... 0.025 s\r\n"
     },
     "execution_count": 1,
     "metadata": {}
    },
    {
     "output_type": "execute_result",
     "data": {
      "text/plain": " 1:   initializing Loader"
     },
     "execution_count": 1,
     "metadata": {}
    },
    {
     "output_type": "execute_result",
     "data": {
      "text/plain": " ............................................ 0.000 s\r\n"
     },
     "execution_count": 1,
     "metadata": {}
    },
    {
     "output_type": "execute_result",
     "data": {
      "text/plain": " 1: initializing aardvark ............................................ 5.905 s\r\n"
     },
     "execution_count": 1,
     "metadata": {}
    }
   ]
  },
  {
   "cell_type": "code",
   "execution_count": 1,
   "metadata": {},
   "source": [
    "#!fsharp\n",
    "open NotebookApp\n",
    "open Aardium\n",
    "open Aardvark.Service\n",
    "open Aardvark.UI\n",
    "open Suave\n",
    "open Suave.WebPart\n",
    "open Aardvark.Rendering.Vulkan\n",
    "open Aardvark.Base\n",
    "open FSharp.Data.Adaptive\n",
    "open System\n",
    "\n",
    "\n",
    "let app = new Aardvark.Application.Slim.VulkanApplication()\n",
    "\n",
    ""
   ],
   "outputs": []
  },
  {
   "cell_type": "code",
   "execution_count": 1,
   "metadata": {},
   "source": [
    "#!fsharp\n",
    "let mstate, mapp = App.app.startAndGetState()\n",
    "WebPart.startServer 4321 [\n",
    "    MutableApp.toWebPart' app.Runtime false mapp\n",
    "] |> ignore\n",
    "\n",
    "Html.ToHtmlContent \"<iframe src='http://127.0.0.1:4321' width='800' height='400'></frame>\""
   ],
   "outputs": [
    {
     "output_type": "execute_result",
     "data": {
      "text/html": "<iframe src='http://127.0.0.1:4321' width='800' height='400'></frame>"
     },
     "execution_count": 1,
     "metadata": {}
    }
   ]
  },
  {
   "cell_type": "code",
   "execution_count": 1,
   "metadata": {},
   "source": [
    "#!fsharp\n",
    "let mapp2 = \n",
    "    { mapp with ui = App.view2 mstate }\n",
    "\n",
    "WebPart.startServer 4322 [\n",
    "    MutableApp.toWebPart' app.Runtime false mapp2\n",
    "] |> ignore\n",
    "\n",
    "Html.ToHtmlContent \"<iframe src='http://127.0.0.1:4322' width='800' height='400'></frame>\""
   ],
   "outputs": [
    {
     "output_type": "execute_result",
     "data": {
      "text/plain": "["
     },
     "execution_count": 1,
     "metadata": {}
    },
    {
     "output_type": "execute_result",
     "data": {
      "text/plain": "20:10:38"
     },
     "execution_count": 1,
     "metadata": {}
    },
    {
     "output_type": "execute_result",
     "data": {
      "text/plain": " "
     },
     "execution_count": 1,
     "metadata": {}
    },
    {
     "output_type": "execute_result",
     "data": {
      "text/plain": "INF"
     },
     "execution_count": 1,
     "metadata": {}
    },
    {
     "output_type": "execute_result",
     "data": {
      "text/plain": "] "
     },
     "execution_count": 1,
     "metadata": {}
    },
    {
     "output_type": "execute_result",
     "data": {
      "text/plain": "Smooth! Suave listener started in "
     },
     "execution_count": 1,
     "metadata": {}
    },
    {
     "output_type": "execute_result",
     "data": {
      "text/plain": ",866"
     },
     "execution_count": 1,
     "metadata": {}
    },
    {
     "output_type": "execute_result",
     "data": {
      "text/plain": "ms with binding "
     },
     "execution_count": 1,
     "metadata": {}
    },
    {
     "output_type": "execute_result",
     "data": {
      "text/plain": "0.0.0.0"
     },
     "execution_count": 1,
     "metadata": {}
    },
    {
     "output_type": "execute_result",
     "data": {
      "text/plain": ":"
     },
     "execution_count": 1,
     "metadata": {}
    },
    {
     "output_type": "execute_result",
     "data": {
      "text/plain": "4322"
     },
     "execution_count": 1,
     "metadata": {}
    },
    {
     "output_type": "execute_result",
     "data": {
      "text/plain": "\r\n"
     },
     "execution_count": 1,
     "metadata": {}
    },
    {
     "output_type": "execute_result",
     "data": {
      "text/html": "<iframe src='http://127.0.0.1:4322' width='800' height='400'></frame>"
     },
     "execution_count": 1,
     "metadata": {}
    }
   ]
  }
 ],
 "metadata": {
  "kernelspec": {
   "display_name": ".NET (C#)",
   "language": "C#",
   "name": ".net-csharp"
  },
  "language_info": {
   "file_extension": ".cs",
   "mimetype": "text/x-csharp",
   "name": "C#",
   "pygments_lexer": "csharp",
   "version": "8.0"
  }
 },
 "nbformat": 4,
 "nbformat_minor": 4
}