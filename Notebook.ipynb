{
 "cells": [
  {
   "cell_type": "code",
   "execution_count": 1,
   "metadata": {},
   "source": [
    "#!fsharp\n",
    "// installation of paket integration (did not find out to do it properly)\n",
    "let installDesignTime () = \n",
    "    let home = \n",
    "        match System.Environment.OSVersion.Platform with\n",
    "        | PlatformID.Unix | PlatformID.MacOSX -> Environment.GetEnvironmentVariable(\"HOME\")\n",
    "        | _ -> Environment.ExpandEnvironmentVariables(\"%HOMEDRIVE%%HOMEPATH%\")\n",
    "    let target = System.IO.Path.Combine(home,@\".nuget\\packages\\microsoft.dotnet-interactive\\1.0.156101\\tools\\netcoreapp3.1\\any\\FSharp.DependencyManager.Paket.dll\")\n",
    "    System.IO.File.Copy(@\"packages\\build\\FSharp.DependencyManager.Paket\\lib\\netstandard2.0\\FSharp.DependencyManager.Paket.dll\", target)"
   ],
   "outputs": []
  },
  {
   "cell_type": "code",
   "execution_count": 1,
   "metadata": {},
   "source": [
    "#!fsharp\n",
    "installDesignTime()"
   ],
   "outputs": []
  },
  {
   "cell_type": "code",
   "execution_count": 1,
   "metadata": {},
   "source": [
    "#!fsharp\n",
    "// add a lot packages...\n",
    "#r \"paket: nuget FSharp.Data.Adaptive\"\n",
    "#r \"paket: nuget Aardvark.Base\"\n",
    "#r \"paket: nuget Aardvark.Base.Incremental\"\n",
    "#r \"paket: nuget Aardvark.Base.FSharp\"\n",
    "#r \"paket: nuget Aardvark.Base.Rendering\"\n",
    "#r \"paket: nuget Aardvark.Application.Slim\"\n",
    "#r \"paket: nuget Aardvark.Application.Slim.GL\"\n",
    "#r \"paket: nuget Aardvark.Application.Slim.Vulkan\"\n",
    "#r \"paket: nuget Aardvark.SceneGraph\"\n",
    "#r \"paket: nuget Aardvark.SceneGraph.IO\"\n",
    "#r \"paket: nuget Aardvark.Service\"\n",
    "#r \"paket: nuget Aardvark.UI\"\n",
    "#r \"paket: nuget Aardvark.UI.Primitives\""
   ],
   "outputs": [
    {
     "output_type": "execute_result",
     "data": {
      "text/plain": "ok paket\r\n"
     },
     "execution_count": 1,
     "metadata": {}
    },
    {
     "output_type": "execute_result",
     "data": {
      "text/plain": "err paket\r\n"
     },
     "execution_count": 1,
     "metadata": {}
    }
   ]
  },
  {
   "cell_type": "code",
   "execution_count": 1,
   "metadata": {},
   "source": [
    "#!fsharp\n",
    "// can be removed using project reference in the future\n",
    "#r @\"bin\\Debug\\netcoreapp3.1\\NotebookApp.dll\""
   ],
   "outputs": []
  },
  {
   "cell_type": "code",
   "execution_count": 1,
   "metadata": {},
   "source": [
    "#!fsharp\n",
    "open Aardvark.Notebooks\n",
    "Notebooks.init()"
   ],
   "outputs": []
  },
  {
   "cell_type": "code",
   "execution_count": 1,
   "metadata": {},
   "source": [
    "#!fsharp\n",
    "let show (v : Aardvark.Notebooks.NotebookUtilities.NotebookView) = \n",
    "    let html = sprintf \"<iframe src='%s' width='400' height='200'></frame>\" v.Url\n",
    "    Html.ToHtmlContent html"
   ],
   "outputs": []
  },
  {
   "cell_type": "code",
   "execution_count": 1,
   "metadata": {},
   "source": [
    "#!fsharp\n",
    "open NotebookApp\n",
    "\n",
    "let app = new Aardvark.Application.Slim.VulkanApplication()"
   ],
   "outputs": []
  },
  {
   "cell_type": "code",
   "execution_count": 1,
   "metadata": {},
   "source": [
    "#!fsharp\n",
    "open Aardvark.Base\n",
    "open Aardvark.UI\n",
    "open Aardvark.UI.Primitives\n",
    "open FSharp.Data.Adaptive\n",
    "open NotebookApp.Model\n",
    "open Aardvark.Base.Rendering"
   ],
   "outputs": []
  },
  {
   "cell_type": "code",
   "execution_count": 1,
   "metadata": {},
   "source": [
    "#!fsharp\n",
    "let napp = NotebookApp(app.Runtime, App.app)\n",
    "napp.AddView(App.view) |> show\n",
    ""
   ],
   "outputs": [
    {
     "output_type": "execute_result",
     "data": {
      "text/html": "<iframe src='http://localhost:6856' width='400' height='200'></frame>"
     },
     "execution_count": 1,
     "metadata": {}
    }
   ]
  },
  {
   "cell_type": "code",
   "execution_count": 1,
   "metadata": {},
   "source": [
    "#!fsharp\n",
    "napp.AddView(App.view) |> show"
   ],
   "outputs": [
    {
     "output_type": "execute_result",
     "data": {
      "text/html": "<iframe src='http://localhost:6890' width='400' height='200'></frame>"
     },
     "execution_count": 1,
     "metadata": {}
    }
   ]
  },
  {
   "cell_type": "code",
   "execution_count": 1,
   "metadata": {},
   "source": [
    "#!fsharp\n",
    "let viewAnnotations (m : AdaptiveModel) =\n",
    "    body [style \"background-color: #272727\"] [\n",
    "        require Html.semui (\n",
    "            Incremental.div (AttributeMap.ofList [style \"position: fixed; left: 20px; top: 20px\"]) <|\n",
    "                alist {\n",
    "                    for p in m.annotations do\n",
    "                        yield div [style \"color:black\"] [text (sprintf \"(%.2f,%.2f,%.2f)\" p.X p.Y p.Z)]\n",
    "            \n",
    "            }\n",
    "        )\n",
    "    ]\n",
    "napp.AddView(viewAnnotations) |> show\n",
    ""
   ],
   "outputs": [
    {
     "output_type": "execute_result",
     "data": {
      "text/plain": "Stopped due to error\n"
     },
     "execution_count": 1,
     "metadata": {}
    },
    {
     "output_type": "error",
     "ename": "Error",
     "evalue": "input.fsx (1,26)-(1,39) typecheck error The type 'AdaptiveModel' is not defined.\ninput.fsx (2,5)-(2,9) typecheck error The value or constructor 'body' is not defined. Maybe you want one of the following:\r\n   box\ninput.fsx (12,1)-(12,5) typecheck error The value, namespace, type or module 'napp' is not defined. Maybe you want one of the following:\r\n   nan\ninput.fsx (12,34)-(12,38) typecheck error The value or constructor 'show' is not defined.",
     "traceback": []
    }
   ]
  },
  {
   "cell_type": "code",
   "execution_count": 1,
   "metadata": {},
   "source": [
    "#!fsharp\n",
    "let points = napp.State.annotations |> AList.force \n",
    "points |> Seq.map (fun p -> p * 2.0)"
   ],
   "outputs": [
    {
     "output_type": "execute_result",
     "data": {
      "text/html": "<table><thead><tr><th><i>index</i></th><th>Elements</th><th>MajorDim</th><th>MinorDim</th><th>AnyNaN</th><th>AllNaN</th><th>AnyInfinity</th><th>AllInfinity</th><th>AnyPositiveInfinity</th><th>AllPositiveInfinity</th><th>AnyNegativeInfinity</th><th>AllNegativeInfinity</th><th>AnyTiny</th><th>AllTiny</th><th>IsNaN</th><th>IsInfinity</th><th>IsFinite</th><th>LengthSquared</th><th>Length</th><th>Norm1</th><th>Norm2</th><th>..</th></tr></thead><tbody><tr><td>0</td><td><div class=\"dni-plaintext\">[ 1.685069594902037, 0.5449862265577234, 0.8697285417102485 ]</div></td><td><div class=\"dni-plaintext\">0</div></td><td><div class=\"dni-plaintext\">1</div></td><td><div class=\"dni-plaintext\">False</div></td><td><div class=\"dni-plaintext\">False</div></td><td><div class=\"dni-plaintext\">False</div></td><td><div class=\"dni-plaintext\">False</div></td><td><div class=\"dni-plaintext\">False</div></td><td><div class=\"dni-plaintext\">False</div></td><td><div class=\"dni-plaintext\">False</div></td><td><div class=\"dni-plaintext\">False</div></td><td><div class=\"dni-plaintext\">False</div></td><td><div class=\"dni-plaintext\">False</div></td><td><div class=\"dni-plaintext\">False</div></td><td><div class=\"dni-plaintext\">False</div></td><td><div class=\"dni-plaintext\">True</div></td><td><div class=\"dni-plaintext\">3.8928972630663763</div></td><td><div class=\"dni-plaintext\">1.9730426409650594</div></td><td><div class=\"dni-plaintext\">3.099784363170009</div></td><td><div class=\"dni-plaintext\">1.9730426409650594</div></td></tr><tr><td>1</td><td><div class=\"dni-plaintext\">[ -0.01997682068572626, 1.5786815573319117, 1.1690903157868329 ]</div></td><td><div class=\"dni-plaintext\">1</div></td><td><div class=\"dni-plaintext\">0</div></td><td><div class=\"dni-plaintext\">False</div></td><td><div class=\"dni-plaintext\">False</div></td><td><div class=\"dni-plaintext\">False</div></td><td><div class=\"dni-plaintext\">False</div></td><td><div class=\"dni-plaintext\">False</div></td><td><div class=\"dni-plaintext\">False</div></td><td><div class=\"dni-plaintext\">False</div></td><td><div class=\"dni-plaintext\">False</div></td><td><div class=\"dni-plaintext\">False</div></td><td><div class=\"dni-plaintext\">False</div></td><td><div class=\"dni-plaintext\">False</div></td><td><div class=\"dni-plaintext\">False</div></td><td><div class=\"dni-plaintext\">True</div></td><td><div class=\"dni-plaintext\">3.8594066992911764</div></td><td><div class=\"dni-plaintext\">1.9645372735815365</div></td><td><div class=\"dni-plaintext\">2.767748693804471</div></td><td><div class=\"dni-plaintext\">1.9645372735815365</div></td></tr><tr><td>2</td><td><div class=\"dni-plaintext\">[ 1.0353300055451546, 1.3005796013403788, 1.0809193893920672 ]</div></td><td><div class=\"dni-plaintext\">1</div></td><td><div class=\"dni-plaintext\">0</div></td><td><div class=\"dni-plaintext\">False</div></td><td><div class=\"dni-plaintext\">False</div></td><td><div class=\"dni-plaintext\">False</div></td><td><div class=\"dni-plaintext\">False</div></td><td><div class=\"dni-plaintext\">False</div></td><td><div class=\"dni-plaintext\">False</div></td><td><div class=\"dni-plaintext\">False</div></td><td><div class=\"dni-plaintext\">False</div></td><td><div class=\"dni-plaintext\">False</div></td><td><div class=\"dni-plaintext\">False</div></td><td><div class=\"dni-plaintext\">False</div></td><td><div class=\"dni-plaintext\">False</div></td><td><div class=\"dni-plaintext\">True</div></td><td><div class=\"dni-plaintext\">3.931802246168548</div></td><td><div class=\"dni-plaintext\">1.982877264524597</div></td><td><div class=\"dni-plaintext\">3.4168289962776006</div></td><td><div class=\"dni-plaintext\">1.982877264524597</div></td></tr><tr><td>3</td><td><div class=\"dni-plaintext\">[ 0.7430940707841782, 1.7879125672677292, 0.3735101825770277 ]</div></td><td><div class=\"dni-plaintext\">1</div></td><td><div class=\"dni-plaintext\">2</div></td><td><div class=\"dni-plaintext\">False</div></td><td><div class=\"dni-plaintext\">False</div></td><td><div class=\"dni-plaintext\">False</div></td><td><div class=\"dni-plaintext\">False</div></td><td><div class=\"dni-plaintext\">False</div></td><td><div class=\"dni-plaintext\">False</div></td><td><div class=\"dni-plaintext\">False</div></td><td><div class=\"dni-plaintext\">False</div></td><td><div class=\"dni-plaintext\">False</div></td><td><div class=\"dni-plaintext\">False</div></td><td><div class=\"dni-plaintext\">False</div></td><td><div class=\"dni-plaintext\">False</div></td><td><div class=\"dni-plaintext\">True</div></td><td><div class=\"dni-plaintext\">3.888330002717208</div></td><td><div class=\"dni-plaintext\">1.9718848857672215</div></td><td><div class=\"dni-plaintext\">2.904516820628935</div></td><td><div class=\"dni-plaintext\">1.9718848857672215</div></td></tr><tr><td>4</td><td><div class=\"dni-plaintext\">[ 0.829722221634581, 0.8690093229390015, 1.5785264576811626 ]</div></td><td><div class=\"dni-plaintext\">2</div></td><td><div class=\"dni-plaintext\">0</div></td><td><div class=\"dni-plaintext\">False</div></td><td><div class=\"dni-plaintext\">False</div></td><td><div class=\"dni-plaintext\">False</div></td><td><div class=\"dni-plaintext\">False</div></td><td><div class=\"dni-plaintext\">False</div></td><td><div class=\"dni-plaintext\">False</div></td><td><div class=\"dni-plaintext\">False</div></td><td><div class=\"dni-plaintext\">False</div></td><td><div class=\"dni-plaintext\">False</div></td><td><div class=\"dni-plaintext\">False</div></td><td><div class=\"dni-plaintext\">False</div></td><td><div class=\"dni-plaintext\">False</div></td><td><div class=\"dni-plaintext\">True</div></td><td><div class=\"dni-plaintext\">3.935361946028566</div></td><td><div class=\"dni-plaintext\">1.9837746711833393</div></td><td><div class=\"dni-plaintext\">3.277258002254745</div></td><td><div class=\"dni-plaintext\">1.9837746711833393</div></td></tr><tr><td>5</td><td><div class=\"dni-plaintext\">[ 0.589126428828469, 1.1192018849116065, 1.5030975395596857 ]</div></td><td><div class=\"dni-plaintext\">2</div></td><td><div class=\"dni-plaintext\">0</div></td><td><div class=\"dni-plaintext\">False</div></td><td><div class=\"dni-plaintext\">False</div></td><td><div class=\"dni-plaintext\">False</div></td><td><div class=\"dni-plaintext\">False</div></td><td><div class=\"dni-plaintext\">False</div></td><td><div class=\"dni-plaintext\">False</div></td><td><div class=\"dni-plaintext\">False</div></td><td><div class=\"dni-plaintext\">False</div></td><td><div class=\"dni-plaintext\">False</div></td><td><div class=\"dni-plaintext\">False</div></td><td><div class=\"dni-plaintext\">False</div></td><td><div class=\"dni-plaintext\">False</div></td><td><div class=\"dni-plaintext\">True</div></td><td><div class=\"dni-plaintext\">3.858985021764259</div></td><td><div class=\"dni-plaintext\">1.9644299482965177</div></td><td><div class=\"dni-plaintext\">3.2114258532997613</div></td><td><div class=\"dni-plaintext\">1.9644299482965177</div></td></tr></tbody></table>"
     },
     "execution_count": 1,
     "metadata": {}
    }
   ]
  },
  {
   "cell_type": "code",
   "execution_count": 1,
   "metadata": {},
   "source": [
    "#!fsharp\n",
    ""
   ],
   "outputs": []
  }
 ],
 "metadata": {
  "kernelspec": {
   "display_name": ".NET (C#)",
   "language": "C#",
   "name": ".net-csharp"
  },
  "language_info": {
   "file_extension": ".cs",
   "mimetype": "text/x-csharp",
   "name": "C#",
   "pygments_lexer": "csharp",
   "version": "8.0"
  }
 },
 "nbformat": 4,
 "nbformat_minor": 4
}