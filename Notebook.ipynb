{
 "cells": [
  {
   "cell_type": "code",
   "execution_count": 1,
   "metadata": {},
   "source": [
    "#!fsharp\n",
    "// installation of paket integration (did not find out to do it properly)\n",
    "let installDesignTime () = \n",
    "    let home = \n",
    "        match System.Environment.OSVersion.Platform with\n",
    "        | PlatformID.Unix | PlatformID.MacOSX -> Environment.GetEnvironmentVariable(\"HOME\")\n",
    "        | _ -> Environment.ExpandEnvironmentVariables(\"%HOMEDRIVE%%HOMEPATH%\")\n",
    "    let target = System.IO.Path.Combine(home,@\".nuget\\packages\\microsoft.dotnet-interactive\\1.0.156101\\tools\\netcoreapp3.1\\any\\FSharp.DependencyManager.Paket.dll\")\n",
    "    System.IO.File.Copy(@\"packages\\build\\FSharp.DependencyManager.Paket\\lib\\netstandard2.0\\FSharp.DependencyManager.Paket.dll\", target)"
   ],
   "outputs": []
  },
  {
   "cell_type": "code",
   "execution_count": 1,
   "metadata": {},
   "source": [
    "#!fsharp\n",
    "installDesignTime()"
   ],
   "outputs": []
  },
  {
   "cell_type": "code",
   "execution_count": 1,
   "metadata": {},
   "source": [
    "#!fsharp\n",
    "#r \"paket: nuget FSharp.Data.Adaptive\"\n",
    "#r \"paket: nuget Aardvark.Base\"\n",
    "#r \"paket: nuget Aardvark.Base.Incremental\"\n",
    "#r \"paket: nuget Aardvark.Base.FSharp\"\n",
    "#r \"paket: nuget Aardvark.Base.Rendering\"\n",
    "#r \"paket: nuget Aardvark.Application.Slim\"\n",
    "#r \"paket: nuget Aardvark.Application.Slim.GL\"\n",
    "#r \"paket: nuget Aardvark.Application.Slim.Vulkan\"\n",
    "#r \"paket: nuget Aardvark.SceneGraph\"\n",
    "#r \"paket: nuget Aardvark.SceneGraph.IO\"\n",
    "#r \"paket: nuget Aardvark.Service\"\n",
    "#r \"paket: nuget Aardvark.UI\"\n",
    "#r \"paket: nuget Aardvark.UI.Primitives\""
   ],
   "outputs": [
    {
     "output_type": "execute_result",
     "data": {
      "text/plain": "ok paket\r\n"
     },
     "execution_count": 1,
     "metadata": {}
    },
    {
     "output_type": "execute_result",
     "data": {
      "text/plain": "err paket\r\n"
     },
     "execution_count": 1,
     "metadata": {}
    }
   ]
  },
  {
   "cell_type": "code",
   "execution_count": 1,
   "metadata": {},
   "source": [
    "#!fsharp\n",
    "// can be removed using project reference in the future\n",
    "#r @\"bin\\Debug\\netcoreapp3.1\\NotebookApp.dll\""
   ],
   "outputs": []
  },
  {
   "cell_type": "code",
   "execution_count": 1,
   "metadata": {},
   "source": [
    "#!fsharp\n",
    "open Aardvark.Notebooks\n",
    "Notebooks.init()"
   ],
   "outputs": []
  },
  {
   "cell_type": "code",
   "execution_count": 1,
   "metadata": {},
   "source": [
    "#!fsharp\n",
    "let show (v : Aardvark.Notebooks.NotebookUtilities.NotebookView) = \n",
    "    let html = sprintf \"<iframe src='%s' width='800' height='400'></frame>\" v.Url\n",
    "    Html.ToHtmlContent html"
   ],
   "outputs": []
  },
  {
   "cell_type": "code",
   "execution_count": 1,
   "metadata": {},
   "source": [
    "#!fsharp\n",
    "open NotebookApp\n",
    "\n",
    "let app = new Aardvark.Application.Slim.VulkanApplication()"
   ],
   "outputs": []
  },
  {
   "cell_type": "code",
   "execution_count": 1,
   "metadata": {},
   "source": [
    "#!fsharp\n",
    "let napp = NotebookApp(app.Runtime, App.app)\n",
    "napp.AddView(App.view) |> show\n",
    ""
   ],
   "outputs": [
    {
     "output_type": "execute_result",
     "data": {
      "text/html": "<iframe src='http://localhost:36235' width='800' height='400'></frame>"
     },
     "execution_count": 1,
     "metadata": {}
    }
   ]
  },
  {
   "cell_type": "code",
   "execution_count": 1,
   "metadata": {},
   "source": [
    "#!fsharp\n",
    "open Aardvark.Base\n",
    "open Aardvark.UI\n",
    "open Aardvark.UI.Primitives\n",
    "open FSharp.Data.Adaptive\n",
    "open NotebookApp.Model\n",
    "open Aardvark.Base.Rendering"
   ],
   "outputs": []
  },
  {
   "cell_type": "code",
   "execution_count": 1,
   "metadata": {},
   "source": [
    "#!fsharp\n",
    "let view (m : AdaptiveModel) =\n",
    "\n",
    "    let frustum = \n",
    "        Frustum.perspective 60.0 0.1 100.0 1.0 \n",
    "            |> AVal.constant\n",
    "\n",
    "    let sg =\n",
    "        m.currentModel |> AVal.map (fun v ->\n",
    "            match v with\n",
    "                | Box -> Sg.box (AVal.constant C4b.Red) (AVal.constant (Box3d(-V3d.III, V3d.III)))\n",
    "                | Sphere -> Sg.sphere 5 (AVal.constant C4b.Green) (AVal.constant 1.0)\n",
    "        )\n",
    "        |> Sg.dynamic\n",
    "        |> Sg.shader {\n",
    "            do! DefaultSurfaces.trafo\n",
    "            do! DefaultSurfaces.simpleLighting\n",
    "        }\n",
    "\n",
    "    let att =\n",
    "        [\n",
    "            style \"position: fixed; left: 0; top: 0; width: 100%; height: 100%\"\n",
    "        ]\n",
    "\n",
    "    body [] [\n",
    "        FreeFlyController.controlledControl m.cameraState CameraMessage frustum (AttributeMap.ofList att) sg\n",
    "\n",
    "        div [style \"position: fixed; left: 20px; top: 20px\"] [\n",
    "            button [onClick (fun _ -> ToggleModel)] [text \"Toggle Model\"]\n",
    "\n",
    "            Incremental.text (AVal.map string m.cnt)\n",
    "        ]\n",
    "    ]\n",
    "\n",
    "napp.AddView(view) |> show"
   ],
   "outputs": [
    {
     "output_type": "execute_result",
     "data": {
      "text/html": "<iframe src='http://localhost:36258' width='800' height='400'></frame>"
     },
     "execution_count": 1,
     "metadata": {}
    }
   ]
  }
 ],
 "metadata": {
  "kernelspec": {
   "display_name": ".NET (C#)",
   "language": "C#",
   "name": ".net-csharp"
  },
  "language_info": {
   "file_extension": ".cs",
   "mimetype": "text/x-csharp",
   "name": "C#",
   "pygments_lexer": "csharp",
   "version": "8.0"
  }
 },
 "nbformat": 4,
 "nbformat_minor": 4
}